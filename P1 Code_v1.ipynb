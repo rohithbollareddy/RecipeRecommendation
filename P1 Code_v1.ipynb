{
 "cells": [
  {
   "cell_type": "code",
   "execution_count": 2,
   "id": "8671f5d1",
   "metadata": {},
   "outputs": [],
   "source": [
    "import numpy as np\n",
    "import pandas as pd\n",
    "import matplotlib.pyplot as plt\n",
    "import warnings\n",
    "warnings.filterwarnings('ignore')"
   ]
  },
  {
   "cell_type": "code",
   "execution_count": 3,
   "id": "643cd3c8",
   "metadata": {},
   "outputs": [],
   "source": [
    "ip = pd.read_csv('recipes.csv')"
   ]
  },
  {
   "cell_type": "code",
   "execution_count": 4,
   "id": "641a91f7",
   "metadata": {},
   "outputs": [],
   "source": [
    "ip=ip.sample(500)"
   ]
  },
  {
   "cell_type": "code",
   "execution_count": 5,
   "id": "4f7ac375",
   "metadata": {},
   "outputs": [
    {
     "data": {
      "text/plain": [
       "Index(['RecipeId', 'Name', 'AuthorId', 'AuthorName', 'CookTime', 'PrepTime',\n",
       "       'TotalTime', 'DatePublished', 'Description', 'Images', 'RecipeCategory',\n",
       "       'Keywords', 'RecipeIngredientQuantities', 'RecipeIngredientParts',\n",
       "       'AggregatedRating', 'ReviewCount', 'Calories', 'FatContent',\n",
       "       'SaturatedFatContent', 'CholesterolContent', 'SodiumContent',\n",
       "       'CarbohydrateContent', 'FiberContent', 'SugarContent', 'ProteinContent',\n",
       "       'RecipeServings', 'RecipeYield', 'RecipeInstructions'],\n",
       "      dtype='object')"
      ]
     },
     "execution_count": 5,
     "metadata": {},
     "output_type": "execute_result"
    }
   ],
   "source": [
    "ip.columns"
   ]
  },
  {
   "cell_type": "code",
   "execution_count": 6,
   "id": "7fa04b3e",
   "metadata": {},
   "outputs": [
    {
     "data": {
      "text/html": [
       "<div>\n",
       "<style scoped>\n",
       "    .dataframe tbody tr th:only-of-type {\n",
       "        vertical-align: middle;\n",
       "    }\n",
       "\n",
       "    .dataframe tbody tr th {\n",
       "        vertical-align: top;\n",
       "    }\n",
       "\n",
       "    .dataframe thead th {\n",
       "        text-align: right;\n",
       "    }\n",
       "</style>\n",
       "<table border=\"1\" class=\"dataframe\">\n",
       "  <thead>\n",
       "    <tr style=\"text-align: right;\">\n",
       "      <th></th>\n",
       "      <th>RecipeId</th>\n",
       "      <th>AuthorId</th>\n",
       "      <th>AggregatedRating</th>\n",
       "      <th>ReviewCount</th>\n",
       "      <th>Calories</th>\n",
       "      <th>FatContent</th>\n",
       "      <th>SaturatedFatContent</th>\n",
       "      <th>CholesterolContent</th>\n",
       "      <th>SodiumContent</th>\n",
       "      <th>CarbohydrateContent</th>\n",
       "      <th>FiberContent</th>\n",
       "      <th>SugarContent</th>\n",
       "      <th>ProteinContent</th>\n",
       "      <th>RecipeServings</th>\n",
       "    </tr>\n",
       "  </thead>\n",
       "  <tbody>\n",
       "    <tr>\n",
       "      <th>count</th>\n",
       "      <td>500.000000</td>\n",
       "      <td>5.000000e+02</td>\n",
       "      <td>260.000000</td>\n",
       "      <td>266.000000</td>\n",
       "      <td>500.000000</td>\n",
       "      <td>500.000000</td>\n",
       "      <td>500.000000</td>\n",
       "      <td>500.00000</td>\n",
       "      <td>500.00000</td>\n",
       "      <td>500.000000</td>\n",
       "      <td>500.00000</td>\n",
       "      <td>500.000000</td>\n",
       "      <td>500.000000</td>\n",
       "      <td>313.000000</td>\n",
       "    </tr>\n",
       "    <tr>\n",
       "      <th>mean</th>\n",
       "      <td>263723.564000</td>\n",
       "      <td>2.799389e+07</td>\n",
       "      <td>4.580769</td>\n",
       "      <td>4.582707</td>\n",
       "      <td>459.096600</td>\n",
       "      <td>23.241400</td>\n",
       "      <td>9.050200</td>\n",
       "      <td>88.56580</td>\n",
       "      <td>706.04560</td>\n",
       "      <td>46.910200</td>\n",
       "      <td>3.64840</td>\n",
       "      <td>20.955000</td>\n",
       "      <td>16.339600</td>\n",
       "      <td>8.539936</td>\n",
       "    </tr>\n",
       "    <tr>\n",
       "      <th>std</th>\n",
       "      <td>151924.190645</td>\n",
       "      <td>2.320816e+08</td>\n",
       "      <td>0.695556</td>\n",
       "      <td>9.210060</td>\n",
       "      <td>605.513566</td>\n",
       "      <td>36.611608</td>\n",
       "      <td>15.315796</td>\n",
       "      <td>153.02024</td>\n",
       "      <td>1704.36012</td>\n",
       "      <td>82.460086</td>\n",
       "      <td>4.70058</td>\n",
       "      <td>57.080736</td>\n",
       "      <td>19.877002</td>\n",
       "      <td>9.854348</td>\n",
       "    </tr>\n",
       "    <tr>\n",
       "      <th>min</th>\n",
       "      <td>365.000000</td>\n",
       "      <td>1.533000e+03</td>\n",
       "      <td>1.000000</td>\n",
       "      <td>1.000000</td>\n",
       "      <td>0.000000</td>\n",
       "      <td>0.000000</td>\n",
       "      <td>0.000000</td>\n",
       "      <td>0.00000</td>\n",
       "      <td>0.00000</td>\n",
       "      <td>0.000000</td>\n",
       "      <td>0.00000</td>\n",
       "      <td>0.000000</td>\n",
       "      <td>0.000000</td>\n",
       "      <td>1.000000</td>\n",
       "    </tr>\n",
       "    <tr>\n",
       "      <th>25%</th>\n",
       "      <td>132091.500000</td>\n",
       "      <td>7.330825e+04</td>\n",
       "      <td>4.000000</td>\n",
       "      <td>1.000000</td>\n",
       "      <td>167.175000</td>\n",
       "      <td>5.975000</td>\n",
       "      <td>1.400000</td>\n",
       "      <td>5.10000</td>\n",
       "      <td>119.50000</td>\n",
       "      <td>12.475000</td>\n",
       "      <td>0.90000</td>\n",
       "      <td>2.400000</td>\n",
       "      <td>3.975000</td>\n",
       "      <td>4.000000</td>\n",
       "    </tr>\n",
       "    <tr>\n",
       "      <th>50%</th>\n",
       "      <td>265203.500000</td>\n",
       "      <td>2.460155e+05</td>\n",
       "      <td>5.000000</td>\n",
       "      <td>2.000000</td>\n",
       "      <td>292.500000</td>\n",
       "      <td>11.600000</td>\n",
       "      <td>4.400000</td>\n",
       "      <td>40.75000</td>\n",
       "      <td>331.30000</td>\n",
       "      <td>26.400000</td>\n",
       "      <td>2.10000</td>\n",
       "      <td>6.000000</td>\n",
       "      <td>8.900000</td>\n",
       "      <td>6.000000</td>\n",
       "    </tr>\n",
       "    <tr>\n",
       "      <th>75%</th>\n",
       "      <td>391188.750000</td>\n",
       "      <td>5.269012e+05</td>\n",
       "      <td>5.000000</td>\n",
       "      <td>4.000000</td>\n",
       "      <td>533.650000</td>\n",
       "      <td>27.300000</td>\n",
       "      <td>10.800000</td>\n",
       "      <td>109.65000</td>\n",
       "      <td>777.65000</td>\n",
       "      <td>49.750000</td>\n",
       "      <td>4.62500</td>\n",
       "      <td>15.000000</td>\n",
       "      <td>22.325000</td>\n",
       "      <td>10.000000</td>\n",
       "    </tr>\n",
       "    <tr>\n",
       "      <th>max</th>\n",
       "      <td>539962.000000</td>\n",
       "      <td>2.002107e+09</td>\n",
       "      <td>5.000000</td>\n",
       "      <td>69.000000</td>\n",
       "      <td>5855.600000</td>\n",
       "      <td>327.200000</td>\n",
       "      <td>170.000000</td>\n",
       "      <td>1764.30000</td>\n",
       "      <td>27907.80000</td>\n",
       "      <td>870.700000</td>\n",
       "      <td>39.10000</td>\n",
       "      <td>552.300000</td>\n",
       "      <td>170.100000</td>\n",
       "      <td>100.000000</td>\n",
       "    </tr>\n",
       "  </tbody>\n",
       "</table>\n",
       "</div>"
      ],
      "text/plain": [
       "            RecipeId      AuthorId  AggregatedRating  ReviewCount  \\\n",
       "count     500.000000  5.000000e+02        260.000000   266.000000   \n",
       "mean   263723.564000  2.799389e+07          4.580769     4.582707   \n",
       "std    151924.190645  2.320816e+08          0.695556     9.210060   \n",
       "min       365.000000  1.533000e+03          1.000000     1.000000   \n",
       "25%    132091.500000  7.330825e+04          4.000000     1.000000   \n",
       "50%    265203.500000  2.460155e+05          5.000000     2.000000   \n",
       "75%    391188.750000  5.269012e+05          5.000000     4.000000   \n",
       "max    539962.000000  2.002107e+09          5.000000    69.000000   \n",
       "\n",
       "          Calories  FatContent  SaturatedFatContent  CholesterolContent  \\\n",
       "count   500.000000  500.000000           500.000000           500.00000   \n",
       "mean    459.096600   23.241400             9.050200            88.56580   \n",
       "std     605.513566   36.611608            15.315796           153.02024   \n",
       "min       0.000000    0.000000             0.000000             0.00000   \n",
       "25%     167.175000    5.975000             1.400000             5.10000   \n",
       "50%     292.500000   11.600000             4.400000            40.75000   \n",
       "75%     533.650000   27.300000            10.800000           109.65000   \n",
       "max    5855.600000  327.200000           170.000000          1764.30000   \n",
       "\n",
       "       SodiumContent  CarbohydrateContent  FiberContent  SugarContent  \\\n",
       "count      500.00000           500.000000     500.00000    500.000000   \n",
       "mean       706.04560            46.910200       3.64840     20.955000   \n",
       "std       1704.36012            82.460086       4.70058     57.080736   \n",
       "min          0.00000             0.000000       0.00000      0.000000   \n",
       "25%        119.50000            12.475000       0.90000      2.400000   \n",
       "50%        331.30000            26.400000       2.10000      6.000000   \n",
       "75%        777.65000            49.750000       4.62500     15.000000   \n",
       "max      27907.80000           870.700000      39.10000    552.300000   \n",
       "\n",
       "       ProteinContent  RecipeServings  \n",
       "count      500.000000      313.000000  \n",
       "mean        16.339600        8.539936  \n",
       "std         19.877002        9.854348  \n",
       "min          0.000000        1.000000  \n",
       "25%          3.975000        4.000000  \n",
       "50%          8.900000        6.000000  \n",
       "75%         22.325000       10.000000  \n",
       "max        170.100000      100.000000  "
      ]
     },
     "execution_count": 6,
     "metadata": {},
     "output_type": "execute_result"
    }
   ],
   "source": [
    "ip.describe()"
   ]
  },
  {
   "cell_type": "code",
   "execution_count": 7,
   "id": "1d015304",
   "metadata": {},
   "outputs": [],
   "source": [
    "ip.drop([('RecipeId'),('AuthorId'),('AuthorName'),('DatePublished'),('Images'),('RecipeIngredientQuantities'),('CookTime'),('PrepTime'),('RecipeYield'),('ReviewCount'),('RecipeServings')],axis=1,inplace=True)"
   ]
  },
  {
   "cell_type": "code",
   "execution_count": 8,
   "id": "f24b4e4e",
   "metadata": {},
   "outputs": [
    {
     "data": {
      "text/html": [
       "<div>\n",
       "<style scoped>\n",
       "    .dataframe tbody tr th:only-of-type {\n",
       "        vertical-align: middle;\n",
       "    }\n",
       "\n",
       "    .dataframe tbody tr th {\n",
       "        vertical-align: top;\n",
       "    }\n",
       "\n",
       "    .dataframe thead th {\n",
       "        text-align: right;\n",
       "    }\n",
       "</style>\n",
       "<table border=\"1\" class=\"dataframe\">\n",
       "  <thead>\n",
       "    <tr style=\"text-align: right;\">\n",
       "      <th></th>\n",
       "      <th>Name</th>\n",
       "      <th>TotalTime</th>\n",
       "      <th>Description</th>\n",
       "      <th>RecipeCategory</th>\n",
       "      <th>Keywords</th>\n",
       "      <th>RecipeIngredientParts</th>\n",
       "      <th>AggregatedRating</th>\n",
       "      <th>Calories</th>\n",
       "      <th>FatContent</th>\n",
       "      <th>SaturatedFatContent</th>\n",
       "      <th>CholesterolContent</th>\n",
       "      <th>SodiumContent</th>\n",
       "      <th>CarbohydrateContent</th>\n",
       "      <th>FiberContent</th>\n",
       "      <th>SugarContent</th>\n",
       "      <th>ProteinContent</th>\n",
       "      <th>RecipeInstructions</th>\n",
       "    </tr>\n",
       "  </thead>\n",
       "  <tbody>\n",
       "    <tr>\n",
       "      <th>396931</th>\n",
       "      <td>Guacamole Rice</td>\n",
       "      <td>PT1H10M</td>\n",
       "      <td>A yummy side dish for a Tex Mex meal, or to sp...</td>\n",
       "      <td>Brown Rice</td>\n",
       "      <td>c(\"Rice\", \"Savory\", \"Stove Top\", \"&lt; 4 Hours\", ...</td>\n",
       "      <td>c(\"brown rice\", \"chicken broth\", \"avocado\", \"s...</td>\n",
       "      <td>NaN</td>\n",
       "      <td>308.2</td>\n",
       "      <td>10.5</td>\n",
       "      <td>1.8</td>\n",
       "      <td>0.0</td>\n",
       "      <td>1031.5</td>\n",
       "      <td>43.0</td>\n",
       "      <td>5.4</td>\n",
       "      <td>2.9</td>\n",
       "      <td>11.2</td>\n",
       "      <td>c(\"cook rice in broth in a rice cooker or stov...</td>\n",
       "    </tr>\n",
       "    <tr>\n",
       "      <th>172692</th>\n",
       "      <td>Provencale Baked Cod, Potato &amp;amp; Olives</td>\n",
       "      <td>PT1H5M</td>\n",
       "      <td>Make and share this Provencale Baked Cod, Pota...</td>\n",
       "      <td>Potato</td>\n",
       "      <td>c(\"Vegetable\", \"European\", \"Low Cholesterol\", ...</td>\n",
       "      <td>c(\"potatoes\", \"aubergine\", \"cod fish fillets\",...</td>\n",
       "      <td>NaN</td>\n",
       "      <td>657.9</td>\n",
       "      <td>7.8</td>\n",
       "      <td>1.3</td>\n",
       "      <td>99.3</td>\n",
       "      <td>549.9</td>\n",
       "      <td>97.9</td>\n",
       "      <td>21.9</td>\n",
       "      <td>18.3</td>\n",
       "      <td>55.0</td>\n",
       "      <td>c(\"Use one unpeeled potato per person. Cut int...</td>\n",
       "    </tr>\n",
       "    <tr>\n",
       "      <th>174931</th>\n",
       "      <td>Toasty Chicken Salad Sandwiches</td>\n",
       "      <td>PT22M</td>\n",
       "      <td>Make and share this Toasty Chicken Salad Sandw...</td>\n",
       "      <td>Lunch/Snacks</td>\n",
       "      <td>c(\"&lt; 30 Mins\", \"Easy\")</td>\n",
       "      <td>c(\"celery\", \"onions\", \"lemon juice\", \"mayonnai...</td>\n",
       "      <td>4.0</td>\n",
       "      <td>284.5</td>\n",
       "      <td>16.3</td>\n",
       "      <td>2.8</td>\n",
       "      <td>36.4</td>\n",
       "      <td>495.1</td>\n",
       "      <td>23.7</td>\n",
       "      <td>1.2</td>\n",
       "      <td>4.3</td>\n",
       "      <td>11.3</td>\n",
       "      <td>c(\"Combine chicken, celery, onion, lemon juice...</td>\n",
       "    </tr>\n",
       "    <tr>\n",
       "      <th>422417</th>\n",
       "      <td>Cherry Cola Dessert</td>\n",
       "      <td>PT10M</td>\n",
       "      <td>Make and share this Cherry Cola Dessert recipe...</td>\n",
       "      <td>Low Protein</td>\n",
       "      <td>c(\"Low Cholesterol\", \"Healthy\", \"&lt; 15 Mins\", \"...</td>\n",
       "      <td>c(\"bing cherries\", \"crushed pineapple\", \"pecans\")</td>\n",
       "      <td>NaN</td>\n",
       "      <td>1708.8</td>\n",
       "      <td>40.6</td>\n",
       "      <td>3.6</td>\n",
       "      <td>0.0</td>\n",
       "      <td>810.9</td>\n",
       "      <td>337.9</td>\n",
       "      <td>18.4</td>\n",
       "      <td>302.8</td>\n",
       "      <td>25.2</td>\n",
       "      <td>\"Drain fruit; measure syrups; add water to mak...</td>\n",
       "    </tr>\n",
       "    <tr>\n",
       "      <th>249962</th>\n",
       "      <td>Cold-Fashioned Potato Salad - Alton Brown</td>\n",
       "      <td>PT50M</td>\n",
       "      <td>Watched Alton Brown make this on television la...</td>\n",
       "      <td>Potato</td>\n",
       "      <td>c(\"Vegetable\", \"Low Protein\", \"Low Cholesterol...</td>\n",
       "      <td>c(\"cider vinegar\", \"mayonnaise\", \"mustard powd...</td>\n",
       "      <td>5.0</td>\n",
       "      <td>400.4</td>\n",
       "      <td>15.5</td>\n",
       "      <td>2.3</td>\n",
       "      <td>11.5</td>\n",
       "      <td>868.5</td>\n",
       "      <td>60.0</td>\n",
       "      <td>5.8</td>\n",
       "      <td>7.0</td>\n",
       "      <td>6.7</td>\n",
       "      <td>c(\"Place potatoes into a large heavy-bottomed ...</td>\n",
       "    </tr>\n",
       "  </tbody>\n",
       "</table>\n",
       "</div>"
      ],
      "text/plain": [
       "                                             Name TotalTime  \\\n",
       "396931                             Guacamole Rice   PT1H10M   \n",
       "172692  Provencale Baked Cod, Potato &amp; Olives    PT1H5M   \n",
       "174931            Toasty Chicken Salad Sandwiches     PT22M   \n",
       "422417                        Cherry Cola Dessert     PT10M   \n",
       "249962  Cold-Fashioned Potato Salad - Alton Brown     PT50M   \n",
       "\n",
       "                                              Description RecipeCategory  \\\n",
       "396931  A yummy side dish for a Tex Mex meal, or to sp...     Brown Rice   \n",
       "172692  Make and share this Provencale Baked Cod, Pota...         Potato   \n",
       "174931  Make and share this Toasty Chicken Salad Sandw...   Lunch/Snacks   \n",
       "422417  Make and share this Cherry Cola Dessert recipe...    Low Protein   \n",
       "249962  Watched Alton Brown make this on television la...         Potato   \n",
       "\n",
       "                                                 Keywords  \\\n",
       "396931  c(\"Rice\", \"Savory\", \"Stove Top\", \"< 4 Hours\", ...   \n",
       "172692  c(\"Vegetable\", \"European\", \"Low Cholesterol\", ...   \n",
       "174931                             c(\"< 30 Mins\", \"Easy\")   \n",
       "422417  c(\"Low Cholesterol\", \"Healthy\", \"< 15 Mins\", \"...   \n",
       "249962  c(\"Vegetable\", \"Low Protein\", \"Low Cholesterol...   \n",
       "\n",
       "                                    RecipeIngredientParts  AggregatedRating  \\\n",
       "396931  c(\"brown rice\", \"chicken broth\", \"avocado\", \"s...               NaN   \n",
       "172692  c(\"potatoes\", \"aubergine\", \"cod fish fillets\",...               NaN   \n",
       "174931  c(\"celery\", \"onions\", \"lemon juice\", \"mayonnai...               4.0   \n",
       "422417  c(\"bing cherries\", \"crushed pineapple\", \"pecans\")               NaN   \n",
       "249962  c(\"cider vinegar\", \"mayonnaise\", \"mustard powd...               5.0   \n",
       "\n",
       "        Calories  FatContent  SaturatedFatContent  CholesterolContent  \\\n",
       "396931     308.2        10.5                  1.8                 0.0   \n",
       "172692     657.9         7.8                  1.3                99.3   \n",
       "174931     284.5        16.3                  2.8                36.4   \n",
       "422417    1708.8        40.6                  3.6                 0.0   \n",
       "249962     400.4        15.5                  2.3                11.5   \n",
       "\n",
       "        SodiumContent  CarbohydrateContent  FiberContent  SugarContent  \\\n",
       "396931         1031.5                 43.0           5.4           2.9   \n",
       "172692          549.9                 97.9          21.9          18.3   \n",
       "174931          495.1                 23.7           1.2           4.3   \n",
       "422417          810.9                337.9          18.4         302.8   \n",
       "249962          868.5                 60.0           5.8           7.0   \n",
       "\n",
       "        ProteinContent                                 RecipeInstructions  \n",
       "396931            11.2  c(\"cook rice in broth in a rice cooker or stov...  \n",
       "172692            55.0  c(\"Use one unpeeled potato per person. Cut int...  \n",
       "174931            11.3  c(\"Combine chicken, celery, onion, lemon juice...  \n",
       "422417            25.2  \"Drain fruit; measure syrups; add water to mak...  \n",
       "249962             6.7  c(\"Place potatoes into a large heavy-bottomed ...  "
      ]
     },
     "execution_count": 8,
     "metadata": {},
     "output_type": "execute_result"
    }
   ],
   "source": [
    "ip.head()"
   ]
  },
  {
   "cell_type": "code",
   "execution_count": 9,
   "id": "f9470d83",
   "metadata": {},
   "outputs": [
    {
     "data": {
      "text/plain": [
       "96"
      ]
     },
     "execution_count": 9,
     "metadata": {},
     "output_type": "execute_result"
    }
   ],
   "source": [
    "ip.RecipeCategory.nunique()"
   ]
  },
  {
   "cell_type": "code",
   "execution_count": 10,
   "id": "dea2bee2",
   "metadata": {},
   "outputs": [
    {
     "data": {
      "text/plain": [
       "Keywords             14\n",
       "AggregatedRating    240\n",
       "dtype: int64"
      ]
     },
     "execution_count": 10,
     "metadata": {},
     "output_type": "execute_result"
    }
   ],
   "source": [
    "ip[ip.columns[ip.isnull().any()]].isnull().sum()"
   ]
  },
  {
   "cell_type": "code",
   "execution_count": 11,
   "id": "3596f832",
   "metadata": {},
   "outputs": [],
   "source": [
    "ip.dropna(inplace=True)"
   ]
  },
  {
   "cell_type": "code",
   "execution_count": 12,
   "id": "7d8ccb43",
   "metadata": {},
   "outputs": [
    {
     "data": {
      "text/plain": [
       "Name                     False\n",
       "TotalTime                False\n",
       "Description              False\n",
       "RecipeCategory           False\n",
       "Keywords                 False\n",
       "RecipeIngredientParts    False\n",
       "AggregatedRating         False\n",
       "Calories                 False\n",
       "FatContent               False\n",
       "SaturatedFatContent      False\n",
       "CholesterolContent       False\n",
       "SodiumContent            False\n",
       "CarbohydrateContent      False\n",
       "FiberContent             False\n",
       "SugarContent             False\n",
       "ProteinContent           False\n",
       "RecipeInstructions       False\n",
       "dtype: bool"
      ]
     },
     "execution_count": 12,
     "metadata": {},
     "output_type": "execute_result"
    }
   ],
   "source": [
    "ip.isnull().any()"
   ]
  },
  {
   "cell_type": "code",
   "execution_count": 13,
   "id": "400d3fc0",
   "metadata": {},
   "outputs": [
    {
     "data": {
      "text/plain": [
       "Series([], dtype: float64)"
      ]
     },
     "execution_count": 13,
     "metadata": {},
     "output_type": "execute_result"
    }
   ],
   "source": [
    "ip[ip.columns[ip.isnull().any()]].isnull().sum()"
   ]
  },
  {
   "cell_type": "code",
   "execution_count": 14,
   "id": "4a3d8511",
   "metadata": {
    "scrolled": true
   },
   "outputs": [
    {
     "data": {
      "text/plain": [
       "Index(['Name', 'TotalTime', 'Description', 'RecipeCategory', 'Keywords',\n",
       "       'RecipeIngredientParts', 'AggregatedRating', 'Calories', 'FatContent',\n",
       "       'SaturatedFatContent', 'CholesterolContent', 'SodiumContent',\n",
       "       'CarbohydrateContent', 'FiberContent', 'SugarContent', 'ProteinContent',\n",
       "       'RecipeInstructions'],\n",
       "      dtype='object')"
      ]
     },
     "execution_count": 14,
     "metadata": {},
     "output_type": "execute_result"
    }
   ],
   "source": [
    "ip.columns"
   ]
  },
  {
   "cell_type": "code",
   "execution_count": 147,
   "id": "65a8affa",
   "metadata": {},
   "outputs": [
    {
     "data": {
      "image/png": "[encoded data removed]",
      "text/plain": [
       "<Figure size 3600x720 with 1 Axes>"
      ]
     },
     "metadata": {
      "needs_background": "light"
     },
     "output_type": "display_data"
    }
   ],
   "source": [
    "plt.figure(figsize=(50,10))\n",
    "plt.hist(ip['TotalTime'],bins=50)\n",
    "plt.xlabel('Cooktime')\n",
    "plt.ylabel('Frequency0')\n",
    "plt.title('Frequency of cook time')\n",
    "plt.show()"
   ]
  },
  {
   "cell_type": "code",
   "execution_count": 151,
   "id": "1679880b",
   "metadata": {},
   "outputs": [
    {
     "data": {
      "image/png": "[encoded data removed]",
      "text/plain": [
       "<Figure size 432x288 with 1 Axes>"
      ]
     },
     "metadata": {
      "needs_background": "light"
     },
     "output_type": "display_data"
    }
   ],
   "source": [
    "ip['CholesterolContent'].hist()\n",
    "plt.title('Cholestrol content')\n",
    "plt.xlabel('Cholestrol content')\n",
    "plt.ylabel('Frequency')\n",
    "plt.show()"
   ]
  },
  {
   "cell_type": "code",
   "execution_count": 154,
   "id": "fdca7305",
   "metadata": {},
   "outputs": [
    {
     "data": {
      "image/png": "[encoded data removed]",
      "text/plain": [
       "<Figure size 720x720 with 1 Axes>"
      ]
     },
     "metadata": {
      "needs_background": "light"
     },
     "output_type": "display_data"
    }
   ],
   "source": [
    "plt.figure(figsize=(10,10))\n",
    "plt.scatter(ip['Calories'],ip.index)\n",
    "plt.xlabel('Calories')\n",
    "plt.ylabel('Food ID')\n",
    "plt.title('Calorific value')\n",
    "plt.show()"
   ]
  },
  {
   "cell_type": "code",
   "execution_count": 165,
   "id": "9ed0ff20",
   "metadata": {},
   "outputs": [],
   "source": [
    "\n",
    "x=pd.crosstab(index=ip['RecipeCategory'],columns=ip['RecipeCategory'])\n"
   ]
  },
  {
   "cell_type": "code",
   "execution_count": 169,
   "id": "6e697562",
   "metadata": {},
   "outputs": [
    {
     "data": {
      "text/plain": [
       "<AxesSubplot:xlabel='RecipeCategory'>"
      ]
     },
     "execution_count": 169,
     "metadata": {},
     "output_type": "execute_result"
    },
    {
     "data": {
      "image/png": "[encoded data removed]",
      "text/plain": [
       "<Figure size 3600x1440 with 1 Axes>"
      ]
     },
     "metadata": {
      "needs_background": "light"
     },
     "output_type": "display_data"
    }
   ],
   "source": [
    "x.plot(kind=\"bar\", figsize=(50,20),stacked=True)\n"
   ]
  },
  {
   "cell_type": "code",
   "execution_count": null,
   "id": "d19d3a67",
   "metadata": {},
   "outputs": [],
   "source": []
  },
  {
   "cell_type": "code",
   "execution_count": 15,
   "id": "29a3f5c0",
   "metadata": {
    "scrolled": true
   },
   "outputs": [],
   "source": [
    "ip['list_of_keywords']=(ip['Keywords']+ip['RecipeIngredientParts']+ip['RecipeCategory'])"
   ]
  },
  {
   "cell_type": "code",
   "execution_count": 16,
   "id": "7ecefb37",
   "metadata": {},
   "outputs": [
    {
     "data": {
      "text/plain": [
       "'c(\"< 30 Mins\", \"Easy\")c(\"celery\", \"onions\", \"lemon juice\", \"mayonnaise\", \"paprika\", \"butter\")Lunch/Snacks'"
      ]
     },
     "execution_count": 16,
     "metadata": {},
     "output_type": "execute_result"
    }
   ],
   "source": [
    "ip['list_of_keywords'].iloc[0]"
   ]
  },
  {
   "cell_type": "code",
   "execution_count": 17,
   "id": "c3123818",
   "metadata": {},
   "outputs": [],
   "source": [
    "ip['list_of_keywords']=ip['list_of_keywords'].str.replace(\"c\\(\",'')\n",
    "ip['list_of_keywords']=ip['list_of_keywords'].str.replace(\"\\)\",'')\n",
    "ip['list_of_keywords']=ip['list_of_keywords'].str.replace('\"',' ')"
   ]
  },
  {
   "cell_type": "code",
   "execution_count": 18,
   "id": "0af9d587",
   "metadata": {},
   "outputs": [
    {
     "data": {
      "text/plain": [
       "' < 30 Mins ,  Easy  celery ,  onions ,  lemon juice ,  mayonnaise ,  paprika ,  butter Lunch/Snacks'"
      ]
     },
     "execution_count": 18,
     "metadata": {},
     "output_type": "execute_result"
    }
   ],
   "source": [
    "ip['list_of_keywords'].iloc[0]"
   ]
  },
  {
   "cell_type": "code",
   "execution_count": 19,
   "id": "288490de",
   "metadata": {},
   "outputs": [],
   "source": [
    "ip['list_of_keywords']=ip['list_of_keywords'].str.split(',')"
   ]
  },
  {
   "cell_type": "markdown",
   "id": "44b4121b",
   "metadata": {},
   "source": [
    "-----------------------PRE PROCESSING ENDS HERE--------------------------------------"
   ]
  },
  {
   "cell_type": "code",
   "execution_count": 20,
   "id": "dc8dafcd",
   "metadata": {},
   "outputs": [],
   "source": [
    "from sentence_transformers import SentenceTransformer"
   ]
  },
  {
   "cell_type": "code",
   "execution_count": 21,
   "id": "1db18cff",
   "metadata": {},
   "outputs": [],
   "source": [
    "model=SentenceTransformer('all-mpnet-base-v2')"
   ]
  },
  {
   "cell_type": "code",
   "execution_count": 23,
   "id": "7e22cc76",
   "metadata": {},
   "outputs": [
    {
     "data": {
      "text/plain": [
       "SentenceTransformer(\n",
       "  (0): Transformer({'max_seq_length': 384, 'do_lower_case': False}) with Transformer model: MPNetModel \n",
       "  (1): Pooling({'word_embedding_dimension': 768, 'pooling_mode_cls_token': False, 'pooling_mode_mean_tokens': True, 'pooling_mode_max_tokens': False, 'pooling_mode_mean_sqrt_len_tokens': False})\n",
       "  (2): Normalize()\n",
       ")"
      ]
     },
     "execution_count": 23,
     "metadata": {},
     "output_type": "execute_result"
    }
   ],
   "source": [
    "model"
   ]
  },
  {
   "cell_type": "code",
   "execution_count": 30,
   "id": "0dcf8afc",
   "metadata": {},
   "outputs": [
    {
     "data": {
      "text/plain": [
       "[' < 30 Mins ',\n",
       " '  Easy  celery ',\n",
       " '  onions ',\n",
       " '  lemon juice ',\n",
       " '  mayonnaise ',\n",
       " '  paprika ',\n",
       " '  butter Lunch/Snacks']"
      ]
     },
     "execution_count": 30,
     "metadata": {},
     "output_type": "execute_result"
    }
   ],
   "source": [
    "ip['list_of_keywords'][174931]"
   ]
  },
  {
   "cell_type": "code",
   "execution_count": 34,
   "id": "57dc21c6",
   "metadata": {},
   "outputs": [],
   "source": [
    "x = model.encode(ip['list_of_keywords'].tolist())"
   ]
  },
  {
   "cell_type": "code",
   "execution_count": 35,
   "id": "9209c252",
   "metadata": {},
   "outputs": [
    {
     "data": {
      "text/plain": [
       "array([[-0.00360267, -0.03021334,  0.00571123, ...,  0.01860055,\n",
       "        -0.09175792, -0.01963612],\n",
       "       [ 0.01663952, -0.01153479,  0.0050081 , ..., -0.02468326,\n",
       "        -0.00484444, -0.02713031],\n",
       "       [ 0.01077425, -0.01865403,  0.04116834, ...,  0.00363962,\n",
       "        -0.06405297, -0.00373571],\n",
       "       ...,\n",
       "       [ 0.01866079, -0.01338072,  0.03148207, ..., -0.02117406,\n",
       "         0.01492398, -0.04811433],\n",
       "       [ 0.01462183,  0.00710743, -0.01171695, ...,  0.02294326,\n",
       "        -0.00967567, -0.01758767],\n",
       "       [-0.01959132, -0.02331321, -0.01643656, ...,  0.01843346,\n",
       "        -0.08531363, -0.01384916]], dtype=float32)"
      ]
     },
     "execution_count": 35,
     "metadata": {},
     "output_type": "execute_result"
    }
   ],
   "source": [
    "x"
   ]
  },
  {
   "cell_type": "code",
   "execution_count": 36,
   "id": "b72d173b",
   "metadata": {},
   "outputs": [],
   "source": [
    "input_list_of_keywords=['bread','butter','jam']"
   ]
  },
  {
   "cell_type": "code",
   "execution_count": 87,
   "id": "d7090911",
   "metadata": {},
   "outputs": [],
   "source": [
    "input_embedding=model.encode(input_list_of_keywords)"
   ]
  },
  {
   "cell_type": "code",
   "execution_count": 124,
   "id": "a0be6d6c",
   "metadata": {},
   "outputs": [
    {
     "ename": "TypeError",
     "evalue": "'tuple' object is not callable",
     "output_type": "error",
     "traceback": [
      "\u001b[1;31m---------------------------------------------------------------------------\u001b[0m",
      "\u001b[1;31mTypeError\u001b[0m                                 Traceback (most recent call last)",
      "\u001b[1;32m~\\AppData\\Local\\Temp/ipykernel_11360/2254133357.py\u001b[0m in \u001b[0;36m<module>\u001b[1;34m\u001b[0m\n\u001b[1;32m----> 1\u001b[1;33m \u001b[0minput_embedding\u001b[0m\u001b[1;33m.\u001b[0m\u001b[0mshape\u001b[0m\u001b[1;33m(\u001b[0m \u001b[1;33m)\u001b[0m\u001b[1;33m\u001b[0m\u001b[1;33m\u001b[0m\u001b[0m\n\u001b[0m",
      "\u001b[1;31mTypeError\u001b[0m: 'tuple' object is not callable"
     ]
    }
   ],
   "source": []
  },
  {
   "cell_type": "code",
   "execution_count": 88,
   "id": "d68c6704",
   "metadata": {},
   "outputs": [],
   "source": [
    "from sklearn.metrics.pairwise import cosine_similarity"
   ]
  },
  {
   "cell_type": "code",
   "execution_count": 91,
   "id": "787fec09",
   "metadata": {},
   "outputs": [
    {
     "ename": "NameError",
     "evalue": "name 'i' is not defined",
     "output_type": "error",
     "traceback": [
      "\u001b[1;31m---------------------------------------------------------------------------\u001b[0m",
      "\u001b[1;31mNameError\u001b[0m                                 Traceback (most recent call last)",
      "\u001b[1;32m~\\AppData\\Local\\Temp/ipykernel_11360/1660037550.py\u001b[0m in \u001b[0;36m<module>\u001b[1;34m\u001b[0m\n\u001b[1;32m----> 1\u001b[1;33m \u001b[0mi\u001b[0m\u001b[1;33m.\u001b[0m\u001b[0mtype\u001b[0m\u001b[1;33m(\u001b[0m\u001b[1;33m)\u001b[0m\u001b[1;33m\u001b[0m\u001b[1;33m\u001b[0m\u001b[0m\n\u001b[0m",
      "\u001b[1;31mNameError\u001b[0m: name 'i' is not defined"
     ]
    }
   ],
   "source": []
  },
  {
   "cell_type": "code",
   "execution_count": 134,
   "id": "eeacd5c6",
   "metadata": {},
   "outputs": [],
   "source": [
    "ip['similarity']=[cosine_similarity(i.reshape(-2,2),input_embedding.reshape(-2,2)) for i in x]"
   ]
  },
  {
   "cell_type": "code",
   "execution_count": 135,
   "id": "69920a1e",
   "metadata": {},
   "outputs": [
    {
     "data": {
      "text/html": [
       "<div>\n",
       "<style scoped>\n",
       "    .dataframe tbody tr th:only-of-type {\n",
       "        vertical-align: middle;\n",
       "    }\n",
       "\n",
       "    .dataframe tbody tr th {\n",
       "        vertical-align: top;\n",
       "    }\n",
       "\n",
       "    .dataframe thead th {\n",
       "        text-align: right;\n",
       "    }\n",
       "</style>\n",
       "<table border=\"1\" class=\"dataframe\">\n",
       "  <thead>\n",
       "    <tr style=\"text-align: right;\">\n",
       "      <th></th>\n",
       "      <th>Name</th>\n",
       "      <th>TotalTime</th>\n",
       "      <th>Description</th>\n",
       "      <th>RecipeCategory</th>\n",
       "      <th>Keywords</th>\n",
       "      <th>RecipeIngredientParts</th>\n",
       "      <th>AggregatedRating</th>\n",
       "      <th>Calories</th>\n",
       "      <th>FatContent</th>\n",
       "      <th>SaturatedFatContent</th>\n",
       "      <th>CholesterolContent</th>\n",
       "      <th>SodiumContent</th>\n",
       "      <th>CarbohydrateContent</th>\n",
       "      <th>FiberContent</th>\n",
       "      <th>SugarContent</th>\n",
       "      <th>ProteinContent</th>\n",
       "      <th>RecipeInstructions</th>\n",
       "      <th>list_of_keywords</th>\n",
       "      <th>similarity</th>\n",
       "    </tr>\n",
       "  </thead>\n",
       "  <tbody>\n",
       "    <tr>\n",
       "      <th>174931</th>\n",
       "      <td>Toasty Chicken Salad Sandwiches</td>\n",
       "      <td>PT22M</td>\n",
       "      <td>Make and share this Toasty Chicken Salad Sandw...</td>\n",
       "      <td>Lunch/Snacks</td>\n",
       "      <td>c(\"&lt; 30 Mins\", \"Easy\")</td>\n",
       "      <td>c(\"celery\", \"onions\", \"lemon juice\", \"mayonnai...</td>\n",
       "      <td>4.0</td>\n",
       "      <td>284.5</td>\n",
       "      <td>16.3</td>\n",
       "      <td>2.8</td>\n",
       "      <td>36.4</td>\n",
       "      <td>495.1</td>\n",
       "      <td>23.7</td>\n",
       "      <td>1.2</td>\n",
       "      <td>4.3</td>\n",
       "      <td>11.3</td>\n",
       "      <td>c(\"Combine chicken, celery, onion, lemon juice...</td>\n",
       "      <td>[ &lt; 30 Mins ,   Easy  celery ,   onions ,   le...</td>\n",
       "      <td>[[-0.7582758, 0.8982176, 0.65571594, -0.009880...</td>\n",
       "    </tr>\n",
       "    <tr>\n",
       "      <th>249962</th>\n",
       "      <td>Cold-Fashioned Potato Salad - Alton Brown</td>\n",
       "      <td>PT50M</td>\n",
       "      <td>Watched Alton Brown make this on television la...</td>\n",
       "      <td>Potato</td>\n",
       "      <td>c(\"Vegetable\", \"Low Protein\", \"Low Cholesterol...</td>\n",
       "      <td>c(\"cider vinegar\", \"mayonnaise\", \"mustard powd...</td>\n",
       "      <td>5.0</td>\n",
       "      <td>400.4</td>\n",
       "      <td>15.5</td>\n",
       "      <td>2.3</td>\n",
       "      <td>11.5</td>\n",
       "      <td>868.5</td>\n",
       "      <td>60.0</td>\n",
       "      <td>5.8</td>\n",
       "      <td>7.0</td>\n",
       "      <td>6.7</td>\n",
       "      <td>c(\"Place potatoes into a large heavy-bottomed ...</td>\n",
       "      <td>[ Vegetable ,   Low Protein ,   Low Cholestero...</td>\n",
       "      <td>[[0.22081834, 0.032373965, -0.35992473, -0.888...</td>\n",
       "    </tr>\n",
       "    <tr>\n",
       "      <th>143889</th>\n",
       "      <td>Western Skillet</td>\n",
       "      <td>PT45M</td>\n",
       "      <td>Make and share this Western Skillet recipe fro...</td>\n",
       "      <td>Rice</td>\n",
       "      <td>c(\"Meat\", \"&lt; 60 Mins\")</td>\n",
       "      <td>c(\"ground beef\", \"water\", \"stewed tomatoes\", \"...</td>\n",
       "      <td>4.0</td>\n",
       "      <td>693.4</td>\n",
       "      <td>27.6</td>\n",
       "      <td>12.8</td>\n",
       "      <td>107.2</td>\n",
       "      <td>1231.1</td>\n",
       "      <td>72.8</td>\n",
       "      <td>4.1</td>\n",
       "      <td>8.7</td>\n",
       "      <td>36.6</td>\n",
       "      <td>c(\"In a large skillet, cook beef over medium h...</td>\n",
       "      <td>[ Meat ,   &lt; 60 Mins  ground beef ,   water , ...</td>\n",
       "      <td>[[-0.2164833, 0.4557761, 0.07261312, -0.607043...</td>\n",
       "    </tr>\n",
       "    <tr>\n",
       "      <th>12423</th>\n",
       "      <td>Moist Apple Bread</td>\n",
       "      <td>PT1H15M</td>\n",
       "      <td>Make and share this Moist Apple Bread recipe f...</td>\n",
       "      <td>Breads</td>\n",
       "      <td>c(\"Grains\", \"Apple\", \"Fruit\", \"Healthy\", \"Kid ...</td>\n",
       "      <td>c(\"granulated sugar\", \"sour cream\", \"eggs\", \"v...</td>\n",
       "      <td>5.0</td>\n",
       "      <td>2453.0</td>\n",
       "      <td>62.8</td>\n",
       "      <td>34.7</td>\n",
       "      <td>528.2</td>\n",
       "      <td>1629.5</td>\n",
       "      <td>426.6</td>\n",
       "      <td>10.5</td>\n",
       "      <td>218.9</td>\n",
       "      <td>46.4</td>\n",
       "      <td>c(\"In a large mixing bowl, beat together granu...</td>\n",
       "      <td>[ Grains ,   Apple ,   Fruit ,   Healthy ,   K...</td>\n",
       "      <td>[[-0.6734145, 0.8381328, 0.559087, -0.13134691...</td>\n",
       "    </tr>\n",
       "    <tr>\n",
       "      <th>490630</th>\n",
       "      <td>Creamy Salmon Spread</td>\n",
       "      <td>PT10M</td>\n",
       "      <td>Make and share this Creamy Salmon Spread recip...</td>\n",
       "      <td>&lt; 15 Mins</td>\n",
       "      <td>\"Easy\"</td>\n",
       "      <td>c(\"cottage cheese\", \"water\", \"green onions\", \"...</td>\n",
       "      <td>4.0</td>\n",
       "      <td>140.1</td>\n",
       "      <td>9.8</td>\n",
       "      <td>4.8</td>\n",
       "      <td>34.8</td>\n",
       "      <td>403.0</td>\n",
       "      <td>3.3</td>\n",
       "      <td>0.4</td>\n",
       "      <td>1.8</td>\n",
       "      <td>10.0</td>\n",
       "      <td>\"Combine all ingredients in food processor. Se...</td>\n",
       "      <td>[ Easy  cottage cheese ,   water ,   green oni...</td>\n",
       "      <td>[[0.7503571, -0.8928504, -0.64656144, 0.021941...</td>\n",
       "    </tr>\n",
       "    <tr>\n",
       "      <th>...</th>\n",
       "      <td>...</td>\n",
       "      <td>...</td>\n",
       "      <td>...</td>\n",
       "      <td>...</td>\n",
       "      <td>...</td>\n",
       "      <td>...</td>\n",
       "      <td>...</td>\n",
       "      <td>...</td>\n",
       "      <td>...</td>\n",
       "      <td>...</td>\n",
       "      <td>...</td>\n",
       "      <td>...</td>\n",
       "      <td>...</td>\n",
       "      <td>...</td>\n",
       "      <td>...</td>\n",
       "      <td>...</td>\n",
       "      <td>...</td>\n",
       "      <td>...</td>\n",
       "      <td>...</td>\n",
       "    </tr>\n",
       "    <tr>\n",
       "      <th>319593</th>\n",
       "      <td>Chocolate Coconut Cake</td>\n",
       "      <td>PT1H15M</td>\n",
       "      <td>Absolutely my most requested recipe but it was...</td>\n",
       "      <td>Dessert</td>\n",
       "      <td>c(\"Low Protein\", \"&lt; 4 Hours\")</td>\n",
       "      <td>c(\"flour\", \"sugar\", \"salt\", \"baking soda\", \"wh...</td>\n",
       "      <td>4.0</td>\n",
       "      <td>752.4</td>\n",
       "      <td>38.6</td>\n",
       "      <td>20.3</td>\n",
       "      <td>34.8</td>\n",
       "      <td>590.5</td>\n",
       "      <td>98.2</td>\n",
       "      <td>2.8</td>\n",
       "      <td>71.7</td>\n",
       "      <td>5.7</td>\n",
       "      <td>c(\"Cake:.\", \"Combine the dry ingredients.  Mak...</td>\n",
       "      <td>[ Low Protein ,   &lt; 4 Hours  flour ,   sugar ,...</td>\n",
       "      <td>[[-0.78936505, 0.9187122, 0.6919887, 0.0392184...</td>\n",
       "    </tr>\n",
       "    <tr>\n",
       "      <th>147802</th>\n",
       "      <td>Apple Cider Cheesecake - No Cook</td>\n",
       "      <td>PT2H10M</td>\n",
       "      <td>This recipe was on the lid of some whipped cre...</td>\n",
       "      <td>Cheesecake</td>\n",
       "      <td>c(\"Dessert\", \"Apple\", \"Fruit\", \"Sweet\", \"&lt; 4 H...</td>\n",
       "      <td>c(\"graham cracker pie crust\", \"cream cheese\", ...</td>\n",
       "      <td>5.0</td>\n",
       "      <td>372.9</td>\n",
       "      <td>24.4</td>\n",
       "      <td>12.2</td>\n",
       "      <td>53.0</td>\n",
       "      <td>317.5</td>\n",
       "      <td>35.5</td>\n",
       "      <td>0.8</td>\n",
       "      <td>20.6</td>\n",
       "      <td>4.6</td>\n",
       "      <td>c(\"Spread apple pie filling on bottom of pie c...</td>\n",
       "      <td>[ Dessert ,   Apple ,   Fruit ,   Sweet ,   &lt; ...</td>\n",
       "      <td>[[0.6967533, -0.49325553, -0.7934125, -0.99750...</td>\n",
       "    </tr>\n",
       "    <tr>\n",
       "      <th>21189</th>\n",
       "      <td>Bistro Garden Butternut Squash Soup</td>\n",
       "      <td>PT1H45M</td>\n",
       "      <td>Make and share this Bistro Garden Butternut Sq...</td>\n",
       "      <td>Vegetable</td>\n",
       "      <td>c(\"Low Protein\", \"Low Cholesterol\", \"Healthy\",...</td>\n",
       "      <td>c(\"butter\", \"leek\", \"sugar\", \"curry powder\", \"...</td>\n",
       "      <td>5.0</td>\n",
       "      <td>209.9</td>\n",
       "      <td>7.4</td>\n",
       "      <td>4.0</td>\n",
       "      <td>21.4</td>\n",
       "      <td>206.3</td>\n",
       "      <td>34.2</td>\n",
       "      <td>4.8</td>\n",
       "      <td>8.9</td>\n",
       "      <td>5.7</td>\n",
       "      <td>c(\"Cut squash in halves.\", \"Clean and roast at...</td>\n",
       "      <td>[ Low Protein ,   Low Cholesterol ,   Healthy ...</td>\n",
       "      <td>[[0.20526516, 0.048279643, -0.34502786, -0.880...</td>\n",
       "    </tr>\n",
       "    <tr>\n",
       "      <th>283177</th>\n",
       "      <td>Pizza Potato Bake</td>\n",
       "      <td>PT1H45M</td>\n",
       "      <td>I got this out of one of my Mum's old cook boo...</td>\n",
       "      <td>Potato</td>\n",
       "      <td>c(\"Peppers\", \"Vegetable\", \"Savory\", \"Beginner ...</td>\n",
       "      <td>c(\"potato\", \"capsicum\", \"ham\", \"spring onion\",...</td>\n",
       "      <td>5.0</td>\n",
       "      <td>294.1</td>\n",
       "      <td>3.3</td>\n",
       "      <td>1.3</td>\n",
       "      <td>20.4</td>\n",
       "      <td>596.6</td>\n",
       "      <td>52.6</td>\n",
       "      <td>8.3</td>\n",
       "      <td>6.8</td>\n",
       "      <td>15.8</td>\n",
       "      <td>c(\"Pre-heat oven to 200c.\", \"Thinly slice pota...</td>\n",
       "      <td>[ Peppers ,   Vegetable ,   Savory ,   Beginne...</td>\n",
       "      <td>[[0.95837784, -0.8553531, -0.98965025, -0.8359...</td>\n",
       "    </tr>\n",
       "    <tr>\n",
       "      <th>485060</th>\n",
       "      <td>Bayou  Salad</td>\n",
       "      <td>PT15M</td>\n",
       "      <td>Make and share this Bayou  Salad recipe from F...</td>\n",
       "      <td>Cajun</td>\n",
       "      <td>c(\"&lt; 15 Mins\", \"Easy\")</td>\n",
       "      <td>c(\"rice\", \"shrimp\", \"celery\", \"peas\", \"stuffed...</td>\n",
       "      <td>4.0</td>\n",
       "      <td>533.6</td>\n",
       "      <td>13.8</td>\n",
       "      <td>2.1</td>\n",
       "      <td>10.2</td>\n",
       "      <td>694.9</td>\n",
       "      <td>92.5</td>\n",
       "      <td>3.5</td>\n",
       "      <td>4.8</td>\n",
       "      <td>8.5</td>\n",
       "      <td>c(\"mix.\", \"chill.\")</td>\n",
       "      <td>[ &lt; 15 Mins ,   Easy  rice ,   shrimp ,   cele...</td>\n",
       "      <td>[[-0.9915688, 0.9921868, 0.9622947, 0.5398887,...</td>\n",
       "    </tr>\n",
       "  </tbody>\n",
       "</table>\n",
       "<p>256 rows × 19 columns</p>\n",
       "</div>"
      ],
      "text/plain": [
       "                                             Name TotalTime  \\\n",
       "174931            Toasty Chicken Salad Sandwiches     PT22M   \n",
       "249962  Cold-Fashioned Potato Salad - Alton Brown     PT50M   \n",
       "143889                            Western Skillet     PT45M   \n",
       "12423                           Moist Apple Bread   PT1H15M   \n",
       "490630                       Creamy Salmon Spread     PT10M   \n",
       "...                                           ...       ...   \n",
       "319593                     Chocolate Coconut Cake   PT1H15M   \n",
       "147802           Apple Cider Cheesecake - No Cook   PT2H10M   \n",
       "21189         Bistro Garden Butternut Squash Soup   PT1H45M   \n",
       "283177                          Pizza Potato Bake   PT1H45M   \n",
       "485060                               Bayou  Salad     PT15M   \n",
       "\n",
       "                                              Description RecipeCategory  \\\n",
       "174931  Make and share this Toasty Chicken Salad Sandw...   Lunch/Snacks   \n",
       "249962  Watched Alton Brown make this on television la...         Potato   \n",
       "143889  Make and share this Western Skillet recipe fro...           Rice   \n",
       "12423   Make and share this Moist Apple Bread recipe f...         Breads   \n",
       "490630  Make and share this Creamy Salmon Spread recip...      < 15 Mins   \n",
       "...                                                   ...            ...   \n",
       "319593  Absolutely my most requested recipe but it was...        Dessert   \n",
       "147802  This recipe was on the lid of some whipped cre...     Cheesecake   \n",
       "21189   Make and share this Bistro Garden Butternut Sq...      Vegetable   \n",
       "283177  I got this out of one of my Mum's old cook boo...         Potato   \n",
       "485060  Make and share this Bayou  Salad recipe from F...          Cajun   \n",
       "\n",
       "                                                 Keywords  \\\n",
       "174931                             c(\"< 30 Mins\", \"Easy\")   \n",
       "249962  c(\"Vegetable\", \"Low Protein\", \"Low Cholesterol...   \n",
       "143889                             c(\"Meat\", \"< 60 Mins\")   \n",
       "12423   c(\"Grains\", \"Apple\", \"Fruit\", \"Healthy\", \"Kid ...   \n",
       "490630                                             \"Easy\"   \n",
       "...                                                   ...   \n",
       "319593                      c(\"Low Protein\", \"< 4 Hours\")   \n",
       "147802  c(\"Dessert\", \"Apple\", \"Fruit\", \"Sweet\", \"< 4 H...   \n",
       "21189   c(\"Low Protein\", \"Low Cholesterol\", \"Healthy\",...   \n",
       "283177  c(\"Peppers\", \"Vegetable\", \"Savory\", \"Beginner ...   \n",
       "485060                             c(\"< 15 Mins\", \"Easy\")   \n",
       "\n",
       "                                    RecipeIngredientParts  AggregatedRating  \\\n",
       "174931  c(\"celery\", \"onions\", \"lemon juice\", \"mayonnai...               4.0   \n",
       "249962  c(\"cider vinegar\", \"mayonnaise\", \"mustard powd...               5.0   \n",
       "143889  c(\"ground beef\", \"water\", \"stewed tomatoes\", \"...               4.0   \n",
       "12423   c(\"granulated sugar\", \"sour cream\", \"eggs\", \"v...               5.0   \n",
       "490630  c(\"cottage cheese\", \"water\", \"green onions\", \"...               4.0   \n",
       "...                                                   ...               ...   \n",
       "319593  c(\"flour\", \"sugar\", \"salt\", \"baking soda\", \"wh...               4.0   \n",
       "147802  c(\"graham cracker pie crust\", \"cream cheese\", ...               5.0   \n",
       "21189   c(\"butter\", \"leek\", \"sugar\", \"curry powder\", \"...               5.0   \n",
       "283177  c(\"potato\", \"capsicum\", \"ham\", \"spring onion\",...               5.0   \n",
       "485060  c(\"rice\", \"shrimp\", \"celery\", \"peas\", \"stuffed...               4.0   \n",
       "\n",
       "        Calories  FatContent  SaturatedFatContent  CholesterolContent  \\\n",
       "174931     284.5        16.3                  2.8                36.4   \n",
       "249962     400.4        15.5                  2.3                11.5   \n",
       "143889     693.4        27.6                 12.8               107.2   \n",
       "12423     2453.0        62.8                 34.7               528.2   \n",
       "490630     140.1         9.8                  4.8                34.8   \n",
       "...          ...         ...                  ...                 ...   \n",
       "319593     752.4        38.6                 20.3                34.8   \n",
       "147802     372.9        24.4                 12.2                53.0   \n",
       "21189      209.9         7.4                  4.0                21.4   \n",
       "283177     294.1         3.3                  1.3                20.4   \n",
       "485060     533.6        13.8                  2.1                10.2   \n",
       "\n",
       "        SodiumContent  CarbohydrateContent  FiberContent  SugarContent  \\\n",
       "174931          495.1                 23.7           1.2           4.3   \n",
       "249962          868.5                 60.0           5.8           7.0   \n",
       "143889         1231.1                 72.8           4.1           8.7   \n",
       "12423          1629.5                426.6          10.5         218.9   \n",
       "490630          403.0                  3.3           0.4           1.8   \n",
       "...               ...                  ...           ...           ...   \n",
       "319593          590.5                 98.2           2.8          71.7   \n",
       "147802          317.5                 35.5           0.8          20.6   \n",
       "21189           206.3                 34.2           4.8           8.9   \n",
       "283177          596.6                 52.6           8.3           6.8   \n",
       "485060          694.9                 92.5           3.5           4.8   \n",
       "\n",
       "        ProteinContent                                 RecipeInstructions  \\\n",
       "174931            11.3  c(\"Combine chicken, celery, onion, lemon juice...   \n",
       "249962             6.7  c(\"Place potatoes into a large heavy-bottomed ...   \n",
       "143889            36.6  c(\"In a large skillet, cook beef over medium h...   \n",
       "12423             46.4  c(\"In a large mixing bowl, beat together granu...   \n",
       "490630            10.0  \"Combine all ingredients in food processor. Se...   \n",
       "...                ...                                                ...   \n",
       "319593             5.7  c(\"Cake:.\", \"Combine the dry ingredients.  Mak...   \n",
       "147802             4.6  c(\"Spread apple pie filling on bottom of pie c...   \n",
       "21189              5.7  c(\"Cut squash in halves.\", \"Clean and roast at...   \n",
       "283177            15.8  c(\"Pre-heat oven to 200c.\", \"Thinly slice pota...   \n",
       "485060             8.5                                c(\"mix.\", \"chill.\")   \n",
       "\n",
       "                                         list_of_keywords  \\\n",
       "174931  [ < 30 Mins ,   Easy  celery ,   onions ,   le...   \n",
       "249962  [ Vegetable ,   Low Protein ,   Low Cholestero...   \n",
       "143889  [ Meat ,   < 60 Mins  ground beef ,   water , ...   \n",
       "12423   [ Grains ,   Apple ,   Fruit ,   Healthy ,   K...   \n",
       "490630  [ Easy  cottage cheese ,   water ,   green oni...   \n",
       "...                                                   ...   \n",
       "319593  [ Low Protein ,   < 4 Hours  flour ,   sugar ,...   \n",
       "147802  [ Dessert ,   Apple ,   Fruit ,   Sweet ,   < ...   \n",
       "21189   [ Low Protein ,   Low Cholesterol ,   Healthy ...   \n",
       "283177  [ Peppers ,   Vegetable ,   Savory ,   Beginne...   \n",
       "485060  [ < 15 Mins ,   Easy  rice ,   shrimp ,   cele...   \n",
       "\n",
       "                                               similarity  \n",
       "174931  [[-0.7582758, 0.8982176, 0.65571594, -0.009880...  \n",
       "249962  [[0.22081834, 0.032373965, -0.35992473, -0.888...  \n",
       "143889  [[-0.2164833, 0.4557761, 0.07261312, -0.607043...  \n",
       "12423   [[-0.6734145, 0.8381328, 0.559087, -0.13134691...  \n",
       "490630  [[0.7503571, -0.8928504, -0.64656144, 0.021941...  \n",
       "...                                                   ...  \n",
       "319593  [[-0.78936505, 0.9187122, 0.6919887, 0.0392184...  \n",
       "147802  [[0.6967533, -0.49325553, -0.7934125, -0.99750...  \n",
       "21189   [[0.20526516, 0.048279643, -0.34502786, -0.880...  \n",
       "283177  [[0.95837784, -0.8553531, -0.98965025, -0.8359...  \n",
       "485060  [[-0.9915688, 0.9921868, 0.9622947, 0.5398887,...  \n",
       "\n",
       "[256 rows x 19 columns]"
      ]
     },
     "execution_count": 135,
     "metadata": {},
     "output_type": "execute_result"
    }
   ],
   "source": [
    "ip"
   ]
  },
  {
   "cell_type": "code",
   "execution_count": 139,
   "id": "a62c13a3",
   "metadata": {},
   "outputs": [
    {
     "ename": "ValueError",
     "evalue": "setting an array element with a sequence.",
     "output_type": "error",
     "traceback": [
      "\u001b[1;31m---------------------------------------------------------------------------\u001b[0m",
      "\u001b[1;31mValueError\u001b[0m                                Traceback (most recent call last)",
      "\u001b[1;31mValueError\u001b[0m: The truth value of an array with more than one element is ambiguous. Use a.any() or a.all()",
      "\nThe above exception was the direct cause of the following exception:\n",
      "\u001b[1;31mValueError\u001b[0m                                Traceback (most recent call last)",
      "\u001b[1;32m~\\AppData\\Local\\Temp/ipykernel_11360/2234592800.py\u001b[0m in \u001b[0;36m<module>\u001b[1;34m\u001b[0m\n\u001b[1;32m----> 1\u001b[1;33m \u001b[0mmax_index\u001b[0m\u001b[1;33m=\u001b[0m\u001b[0mip\u001b[0m\u001b[1;33m[\u001b[0m\u001b[1;34m'similarity'\u001b[0m\u001b[1;33m]\u001b[0m\u001b[1;33m.\u001b[0m\u001b[0mall\u001b[0m\u001b[1;33m(\u001b[0m\u001b[1;33m)\u001b[0m\u001b[1;33m\u001b[0m\u001b[1;33m\u001b[0m\u001b[0m\n\u001b[0m",
      "\u001b[1;32m~\\.conda\\envs\\Sigma\\lib\\site-packages\\pandas\\core\\generic.py\u001b[0m in \u001b[0;36mall\u001b[1;34m(self, axis, bool_only, skipna, level, **kwargs)\u001b[0m\n\u001b[0;32m  10544\u001b[0m         )\n\u001b[0;32m  10545\u001b[0m         \u001b[1;32mdef\u001b[0m \u001b[0mall\u001b[0m\u001b[1;33m(\u001b[0m\u001b[0mself\u001b[0m\u001b[1;33m,\u001b[0m \u001b[0maxis\u001b[0m\u001b[1;33m=\u001b[0m\u001b[1;36m0\u001b[0m\u001b[1;33m,\u001b[0m \u001b[0mbool_only\u001b[0m\u001b[1;33m=\u001b[0m\u001b[1;32mNone\u001b[0m\u001b[1;33m,\u001b[0m \u001b[0mskipna\u001b[0m\u001b[1;33m=\u001b[0m\u001b[1;32mTrue\u001b[0m\u001b[1;33m,\u001b[0m \u001b[0mlevel\u001b[0m\u001b[1;33m=\u001b[0m\u001b[1;32mNone\u001b[0m\u001b[1;33m,\u001b[0m \u001b[1;33m**\u001b[0m\u001b[0mkwargs\u001b[0m\u001b[1;33m)\u001b[0m\u001b[1;33m:\u001b[0m\u001b[1;33m\u001b[0m\u001b[1;33m\u001b[0m\u001b[0m\n\u001b[1;32m> 10546\u001b[1;33m             \u001b[1;32mreturn\u001b[0m \u001b[0mNDFrame\u001b[0m\u001b[1;33m.\u001b[0m\u001b[0mall\u001b[0m\u001b[1;33m(\u001b[0m\u001b[0mself\u001b[0m\u001b[1;33m,\u001b[0m \u001b[0maxis\u001b[0m\u001b[1;33m,\u001b[0m \u001b[0mbool_only\u001b[0m\u001b[1;33m,\u001b[0m \u001b[0mskipna\u001b[0m\u001b[1;33m,\u001b[0m \u001b[0mlevel\u001b[0m\u001b[1;33m,\u001b[0m \u001b[1;33m**\u001b[0m\u001b[0mkwargs\u001b[0m\u001b[1;33m)\u001b[0m\u001b[1;33m\u001b[0m\u001b[1;33m\u001b[0m\u001b[0m\n\u001b[0m\u001b[0;32m  10547\u001b[0m \u001b[1;33m\u001b[0m\u001b[0m\n\u001b[0;32m  10548\u001b[0m         \u001b[0msetattr\u001b[0m\u001b[1;33m(\u001b[0m\u001b[0mcls\u001b[0m\u001b[1;33m,\u001b[0m \u001b[1;34m\"all\"\u001b[0m\u001b[1;33m,\u001b[0m \u001b[0mall\u001b[0m\u001b[1;33m)\u001b[0m\u001b[1;33m\u001b[0m\u001b[1;33m\u001b[0m\u001b[0m\n",
      "\u001b[1;32m~\\.conda\\envs\\Sigma\\lib\\site-packages\\pandas\\core\\generic.py\u001b[0m in \u001b[0;36mall\u001b[1;34m(self, axis, bool_only, skipna, level, **kwargs)\u001b[0m\n\u001b[0;32m  10224\u001b[0m \u001b[1;33m\u001b[0m\u001b[0m\n\u001b[0;32m  10225\u001b[0m     \u001b[1;32mdef\u001b[0m \u001b[0mall\u001b[0m\u001b[1;33m(\u001b[0m\u001b[0mself\u001b[0m\u001b[1;33m,\u001b[0m \u001b[0maxis\u001b[0m\u001b[1;33m=\u001b[0m\u001b[1;36m0\u001b[0m\u001b[1;33m,\u001b[0m \u001b[0mbool_only\u001b[0m\u001b[1;33m=\u001b[0m\u001b[1;32mNone\u001b[0m\u001b[1;33m,\u001b[0m \u001b[0mskipna\u001b[0m\u001b[1;33m=\u001b[0m\u001b[1;32mTrue\u001b[0m\u001b[1;33m,\u001b[0m \u001b[0mlevel\u001b[0m\u001b[1;33m=\u001b[0m\u001b[1;32mNone\u001b[0m\u001b[1;33m,\u001b[0m \u001b[1;33m**\u001b[0m\u001b[0mkwargs\u001b[0m\u001b[1;33m)\u001b[0m\u001b[1;33m:\u001b[0m\u001b[1;33m\u001b[0m\u001b[1;33m\u001b[0m\u001b[0m\n\u001b[1;32m> 10226\u001b[1;33m         return self._logical_func(\n\u001b[0m\u001b[0;32m  10227\u001b[0m             \u001b[1;34m\"all\"\u001b[0m\u001b[1;33m,\u001b[0m \u001b[0mnanops\u001b[0m\u001b[1;33m.\u001b[0m\u001b[0mnanall\u001b[0m\u001b[1;33m,\u001b[0m \u001b[0maxis\u001b[0m\u001b[1;33m,\u001b[0m \u001b[0mbool_only\u001b[0m\u001b[1;33m,\u001b[0m \u001b[0mskipna\u001b[0m\u001b[1;33m,\u001b[0m \u001b[0mlevel\u001b[0m\u001b[1;33m,\u001b[0m \u001b[1;33m**\u001b[0m\u001b[0mkwargs\u001b[0m\u001b[1;33m\u001b[0m\u001b[1;33m\u001b[0m\u001b[0m\n\u001b[0;32m  10228\u001b[0m         )\n",
      "\u001b[1;32m~\\.conda\\envs\\Sigma\\lib\\site-packages\\pandas\\core\\generic.py\u001b[0m in \u001b[0;36m_logical_func\u001b[1;34m(self, name, func, axis, bool_only, skipna, level, **kwargs)\u001b[0m\n\u001b[0;32m  10209\u001b[0m             \u001b[1;32mreturn\u001b[0m \u001b[0mres\u001b[0m\u001b[1;33m.\u001b[0m\u001b[0m_logical_func\u001b[0m\u001b[1;33m(\u001b[0m\u001b[0mname\u001b[0m\u001b[1;33m,\u001b[0m \u001b[0mfunc\u001b[0m\u001b[1;33m,\u001b[0m \u001b[0mskipna\u001b[0m\u001b[1;33m=\u001b[0m\u001b[0mskipna\u001b[0m\u001b[1;33m,\u001b[0m \u001b[1;33m**\u001b[0m\u001b[0mkwargs\u001b[0m\u001b[1;33m)\u001b[0m\u001b[1;33m\u001b[0m\u001b[1;33m\u001b[0m\u001b[0m\n\u001b[0;32m  10210\u001b[0m \u001b[1;33m\u001b[0m\u001b[0m\n\u001b[1;32m> 10211\u001b[1;33m         return self._reduce(\n\u001b[0m\u001b[0;32m  10212\u001b[0m             \u001b[0mfunc\u001b[0m\u001b[1;33m,\u001b[0m\u001b[1;33m\u001b[0m\u001b[1;33m\u001b[0m\u001b[0m\n\u001b[0;32m  10213\u001b[0m             \u001b[0mname\u001b[0m\u001b[1;33m=\u001b[0m\u001b[0mname\u001b[0m\u001b[1;33m,\u001b[0m\u001b[1;33m\u001b[0m\u001b[1;33m\u001b[0m\u001b[0m\n",
      "\u001b[1;32m~\\.conda\\envs\\Sigma\\lib\\site-packages\\pandas\\core\\series.py\u001b[0m in \u001b[0;36m_reduce\u001b[1;34m(self, op, name, axis, skipna, numeric_only, filter_type, **kwds)\u001b[0m\n\u001b[0;32m   4390\u001b[0m                 )\n\u001b[0;32m   4391\u001b[0m             \u001b[1;32mwith\u001b[0m \u001b[0mnp\u001b[0m\u001b[1;33m.\u001b[0m\u001b[0merrstate\u001b[0m\u001b[1;33m(\u001b[0m\u001b[0mall\u001b[0m\u001b[1;33m=\u001b[0m\u001b[1;34m\"ignore\"\u001b[0m\u001b[1;33m)\u001b[0m\u001b[1;33m:\u001b[0m\u001b[1;33m\u001b[0m\u001b[1;33m\u001b[0m\u001b[0m\n\u001b[1;32m-> 4392\u001b[1;33m                 \u001b[1;32mreturn\u001b[0m \u001b[0mop\u001b[0m\u001b[1;33m(\u001b[0m\u001b[0mdelegate\u001b[0m\u001b[1;33m,\u001b[0m \u001b[0mskipna\u001b[0m\u001b[1;33m=\u001b[0m\u001b[0mskipna\u001b[0m\u001b[1;33m,\u001b[0m \u001b[1;33m**\u001b[0m\u001b[0mkwds\u001b[0m\u001b[1;33m)\u001b[0m\u001b[1;33m\u001b[0m\u001b[1;33m\u001b[0m\u001b[0m\n\u001b[0m\u001b[0;32m   4393\u001b[0m \u001b[1;33m\u001b[0m\u001b[0m\n\u001b[0;32m   4394\u001b[0m     def _reindex_indexer(\n",
      "\u001b[1;32m~\\.conda\\envs\\Sigma\\lib\\site-packages\\pandas\\core\\nanops.py\u001b[0m in \u001b[0;36mnanall\u001b[1;34m(values, axis, skipna, mask)\u001b[0m\n\u001b[0;32m    537\u001b[0m     \u001b[1;31m# boolean values (numpy/numpy#4352)\u001b[0m\u001b[1;33m\u001b[0m\u001b[1;33m\u001b[0m\u001b[1;33m\u001b[0m\u001b[0m\n\u001b[0;32m    538\u001b[0m     \u001b[1;32mif\u001b[0m \u001b[0mis_object_dtype\u001b[0m\u001b[1;33m(\u001b[0m\u001b[0mvalues\u001b[0m\u001b[1;33m)\u001b[0m\u001b[1;33m:\u001b[0m\u001b[1;33m\u001b[0m\u001b[1;33m\u001b[0m\u001b[0m\n\u001b[1;32m--> 539\u001b[1;33m         \u001b[0mvalues\u001b[0m \u001b[1;33m=\u001b[0m \u001b[0mvalues\u001b[0m\u001b[1;33m.\u001b[0m\u001b[0mastype\u001b[0m\u001b[1;33m(\u001b[0m\u001b[0mbool\u001b[0m\u001b[1;33m)\u001b[0m\u001b[1;33m\u001b[0m\u001b[1;33m\u001b[0m\u001b[0m\n\u001b[0m\u001b[0;32m    540\u001b[0m \u001b[1;33m\u001b[0m\u001b[0m\n\u001b[0;32m    541\u001b[0m     \u001b[1;31m# error: Incompatible return value type (got \"Union[bool_, ndarray]\", expected\u001b[0m\u001b[1;33m\u001b[0m\u001b[1;33m\u001b[0m\u001b[1;33m\u001b[0m\u001b[0m\n",
      "\u001b[1;31mValueError\u001b[0m: setting an array element with a sequence."
     ]
    }
   ],
   "source": [
    "max_index=ip['similarity'].all()"
   ]
  },
  {
   "cell_type": "code",
   "execution_count": 115,
   "id": "bbde221e",
   "metadata": {},
   "outputs": [
    {
     "ename": "ValueError",
     "evalue": "setting an array element with a sequence.",
     "output_type": "error",
     "traceback": [
      "\u001b[1;31m---------------------------------------------------------------------------\u001b[0m",
      "\u001b[1;31mTypeError\u001b[0m                                 Traceback (most recent call last)",
      "\u001b[1;31mTypeError\u001b[0m: only size-1 arrays can be converted to Python scalars",
      "\nThe above exception was the direct cause of the following exception:\n",
      "\u001b[1;31mValueError\u001b[0m                                Traceback (most recent call last)",
      "\u001b[1;32m~\\AppData\\Local\\Temp/ipykernel_11360/2044662164.py\u001b[0m in \u001b[0;36m<module>\u001b[1;34m\u001b[0m\n\u001b[1;32m----> 1\u001b[1;33m \u001b[0mip\u001b[0m\u001b[1;33m.\u001b[0m\u001b[0miloc\u001b[0m\u001b[1;33m[\u001b[0m\u001b[0mmax_index\u001b[0m\u001b[1;33m]\u001b[0m\u001b[1;33m\u001b[0m\u001b[1;33m\u001b[0m\u001b[0m\n\u001b[0m",
      "\u001b[1;32m~\\.conda\\envs\\Sigma\\lib\\site-packages\\pandas\\core\\indexing.py\u001b[0m in \u001b[0;36m__getitem__\u001b[1;34m(self, key)\u001b[0m\n\u001b[0;32m    929\u001b[0m \u001b[1;33m\u001b[0m\u001b[0m\n\u001b[0;32m    930\u001b[0m             \u001b[0mmaybe_callable\u001b[0m \u001b[1;33m=\u001b[0m \u001b[0mcom\u001b[0m\u001b[1;33m.\u001b[0m\u001b[0mapply_if_callable\u001b[0m\u001b[1;33m(\u001b[0m\u001b[0mkey\u001b[0m\u001b[1;33m,\u001b[0m \u001b[0mself\u001b[0m\u001b[1;33m.\u001b[0m\u001b[0mobj\u001b[0m\u001b[1;33m)\u001b[0m\u001b[1;33m\u001b[0m\u001b[1;33m\u001b[0m\u001b[0m\n\u001b[1;32m--> 931\u001b[1;33m             \u001b[1;32mreturn\u001b[0m \u001b[0mself\u001b[0m\u001b[1;33m.\u001b[0m\u001b[0m_getitem_axis\u001b[0m\u001b[1;33m(\u001b[0m\u001b[0mmaybe_callable\u001b[0m\u001b[1;33m,\u001b[0m \u001b[0maxis\u001b[0m\u001b[1;33m=\u001b[0m\u001b[0maxis\u001b[0m\u001b[1;33m)\u001b[0m\u001b[1;33m\u001b[0m\u001b[1;33m\u001b[0m\u001b[0m\n\u001b[0m\u001b[0;32m    932\u001b[0m \u001b[1;33m\u001b[0m\u001b[0m\n\u001b[0;32m    933\u001b[0m     \u001b[1;32mdef\u001b[0m \u001b[0m_is_scalar_access\u001b[0m\u001b[1;33m(\u001b[0m\u001b[0mself\u001b[0m\u001b[1;33m,\u001b[0m \u001b[0mkey\u001b[0m\u001b[1;33m:\u001b[0m \u001b[0mtuple\u001b[0m\u001b[1;33m)\u001b[0m\u001b[1;33m:\u001b[0m\u001b[1;33m\u001b[0m\u001b[1;33m\u001b[0m\u001b[0m\n",
      "\u001b[1;32m~\\.conda\\envs\\Sigma\\lib\\site-packages\\pandas\\core\\indexing.py\u001b[0m in \u001b[0;36m_getitem_axis\u001b[1;34m(self, key, axis)\u001b[0m\n\u001b[0;32m   1555\u001b[0m         \u001b[1;31m# a list of integers\u001b[0m\u001b[1;33m\u001b[0m\u001b[1;33m\u001b[0m\u001b[1;33m\u001b[0m\u001b[0m\n\u001b[0;32m   1556\u001b[0m         \u001b[1;32melif\u001b[0m \u001b[0mis_list_like_indexer\u001b[0m\u001b[1;33m(\u001b[0m\u001b[0mkey\u001b[0m\u001b[1;33m)\u001b[0m\u001b[1;33m:\u001b[0m\u001b[1;33m\u001b[0m\u001b[1;33m\u001b[0m\u001b[0m\n\u001b[1;32m-> 1557\u001b[1;33m             \u001b[1;32mreturn\u001b[0m \u001b[0mself\u001b[0m\u001b[1;33m.\u001b[0m\u001b[0m_get_list_axis\u001b[0m\u001b[1;33m(\u001b[0m\u001b[0mkey\u001b[0m\u001b[1;33m,\u001b[0m \u001b[0maxis\u001b[0m\u001b[1;33m=\u001b[0m\u001b[0maxis\u001b[0m\u001b[1;33m)\u001b[0m\u001b[1;33m\u001b[0m\u001b[1;33m\u001b[0m\u001b[0m\n\u001b[0m\u001b[0;32m   1558\u001b[0m \u001b[1;33m\u001b[0m\u001b[0m\n\u001b[0;32m   1559\u001b[0m         \u001b[1;31m# a single integer\u001b[0m\u001b[1;33m\u001b[0m\u001b[1;33m\u001b[0m\u001b[1;33m\u001b[0m\u001b[0m\n",
      "\u001b[1;32m~\\.conda\\envs\\Sigma\\lib\\site-packages\\pandas\\core\\indexing.py\u001b[0m in \u001b[0;36m_get_list_axis\u001b[1;34m(self, key, axis)\u001b[0m\n\u001b[0;32m   1528\u001b[0m         \"\"\"\n\u001b[0;32m   1529\u001b[0m         \u001b[1;32mtry\u001b[0m\u001b[1;33m:\u001b[0m\u001b[1;33m\u001b[0m\u001b[1;33m\u001b[0m\u001b[0m\n\u001b[1;32m-> 1530\u001b[1;33m             \u001b[1;32mreturn\u001b[0m \u001b[0mself\u001b[0m\u001b[1;33m.\u001b[0m\u001b[0mobj\u001b[0m\u001b[1;33m.\u001b[0m\u001b[0m_take_with_is_copy\u001b[0m\u001b[1;33m(\u001b[0m\u001b[0mkey\u001b[0m\u001b[1;33m,\u001b[0m \u001b[0maxis\u001b[0m\u001b[1;33m=\u001b[0m\u001b[0maxis\u001b[0m\u001b[1;33m)\u001b[0m\u001b[1;33m\u001b[0m\u001b[1;33m\u001b[0m\u001b[0m\n\u001b[0m\u001b[0;32m   1531\u001b[0m         \u001b[1;32mexcept\u001b[0m \u001b[0mIndexError\u001b[0m \u001b[1;32mas\u001b[0m \u001b[0merr\u001b[0m\u001b[1;33m:\u001b[0m\u001b[1;33m\u001b[0m\u001b[1;33m\u001b[0m\u001b[0m\n\u001b[0;32m   1532\u001b[0m             \u001b[1;31m# re-raise with different error message\u001b[0m\u001b[1;33m\u001b[0m\u001b[1;33m\u001b[0m\u001b[1;33m\u001b[0m\u001b[0m\n",
      "\u001b[1;32m~\\.conda\\envs\\Sigma\\lib\\site-packages\\pandas\\core\\generic.py\u001b[0m in \u001b[0;36m_take_with_is_copy\u001b[1;34m(self, indices, axis)\u001b[0m\n\u001b[0;32m   3626\u001b[0m         \u001b[0mSee\u001b[0m \u001b[0mthe\u001b[0m \u001b[0mdocstring\u001b[0m \u001b[0mof\u001b[0m\u001b[0;31m \u001b[0m\u001b[0;31m`\u001b[0m\u001b[0mtake\u001b[0m\u001b[0;31m`\u001b[0m \u001b[1;32mfor\u001b[0m \u001b[0mfull\u001b[0m \u001b[0mexplanation\u001b[0m \u001b[0mof\u001b[0m \u001b[0mthe\u001b[0m \u001b[0mparameters\u001b[0m\u001b[1;33m.\u001b[0m\u001b[1;33m\u001b[0m\u001b[1;33m\u001b[0m\u001b[0m\n\u001b[0;32m   3627\u001b[0m         \"\"\"\n\u001b[1;32m-> 3628\u001b[1;33m         \u001b[0mresult\u001b[0m \u001b[1;33m=\u001b[0m \u001b[0mself\u001b[0m\u001b[1;33m.\u001b[0m\u001b[0mtake\u001b[0m\u001b[1;33m(\u001b[0m\u001b[0mindices\u001b[0m\u001b[1;33m=\u001b[0m\u001b[0mindices\u001b[0m\u001b[1;33m,\u001b[0m \u001b[0maxis\u001b[0m\u001b[1;33m=\u001b[0m\u001b[0maxis\u001b[0m\u001b[1;33m)\u001b[0m\u001b[1;33m\u001b[0m\u001b[1;33m\u001b[0m\u001b[0m\n\u001b[0m\u001b[0;32m   3629\u001b[0m         \u001b[1;31m# Maybe set copy if we didn't actually change the index.\u001b[0m\u001b[1;33m\u001b[0m\u001b[1;33m\u001b[0m\u001b[1;33m\u001b[0m\u001b[0m\n\u001b[0;32m   3630\u001b[0m         \u001b[1;32mif\u001b[0m \u001b[1;32mnot\u001b[0m \u001b[0mresult\u001b[0m\u001b[1;33m.\u001b[0m\u001b[0m_get_axis\u001b[0m\u001b[1;33m(\u001b[0m\u001b[0maxis\u001b[0m\u001b[1;33m)\u001b[0m\u001b[1;33m.\u001b[0m\u001b[0mequals\u001b[0m\u001b[1;33m(\u001b[0m\u001b[0mself\u001b[0m\u001b[1;33m.\u001b[0m\u001b[0m_get_axis\u001b[0m\u001b[1;33m(\u001b[0m\u001b[0maxis\u001b[0m\u001b[1;33m)\u001b[0m\u001b[1;33m)\u001b[0m\u001b[1;33m:\u001b[0m\u001b[1;33m\u001b[0m\u001b[1;33m\u001b[0m\u001b[0m\n",
      "\u001b[1;32m~\\.conda\\envs\\Sigma\\lib\\site-packages\\pandas\\core\\generic.py\u001b[0m in \u001b[0;36mtake\u001b[1;34m(self, indices, axis, is_copy, **kwargs)\u001b[0m\n\u001b[0;32m   3613\u001b[0m         \u001b[0mself\u001b[0m\u001b[1;33m.\u001b[0m\u001b[0m_consolidate_inplace\u001b[0m\u001b[1;33m(\u001b[0m\u001b[1;33m)\u001b[0m\u001b[1;33m\u001b[0m\u001b[1;33m\u001b[0m\u001b[0m\n\u001b[0;32m   3614\u001b[0m \u001b[1;33m\u001b[0m\u001b[0m\n\u001b[1;32m-> 3615\u001b[1;33m         new_data = self._mgr.take(\n\u001b[0m\u001b[0;32m   3616\u001b[0m             \u001b[0mindices\u001b[0m\u001b[1;33m,\u001b[0m \u001b[0maxis\u001b[0m\u001b[1;33m=\u001b[0m\u001b[0mself\u001b[0m\u001b[1;33m.\u001b[0m\u001b[0m_get_block_manager_axis\u001b[0m\u001b[1;33m(\u001b[0m\u001b[0maxis\u001b[0m\u001b[1;33m)\u001b[0m\u001b[1;33m,\u001b[0m \u001b[0mverify\u001b[0m\u001b[1;33m=\u001b[0m\u001b[1;32mTrue\u001b[0m\u001b[1;33m\u001b[0m\u001b[1;33m\u001b[0m\u001b[0m\n\u001b[0;32m   3617\u001b[0m         )\n",
      "\u001b[1;32m~\\.conda\\envs\\Sigma\\lib\\site-packages\\pandas\\core\\internals\\managers.py\u001b[0m in \u001b[0;36mtake\u001b[1;34m(self, indexer, axis, verify)\u001b[0m\n\u001b[0;32m    856\u001b[0m             \u001b[0mnp\u001b[0m\u001b[1;33m.\u001b[0m\u001b[0marange\u001b[0m\u001b[1;33m(\u001b[0m\u001b[0mindexer\u001b[0m\u001b[1;33m.\u001b[0m\u001b[0mstart\u001b[0m\u001b[1;33m,\u001b[0m \u001b[0mindexer\u001b[0m\u001b[1;33m.\u001b[0m\u001b[0mstop\u001b[0m\u001b[1;33m,\u001b[0m \u001b[0mindexer\u001b[0m\u001b[1;33m.\u001b[0m\u001b[0mstep\u001b[0m\u001b[1;33m,\u001b[0m \u001b[0mdtype\u001b[0m\u001b[1;33m=\u001b[0m\u001b[1;34m\"int64\"\u001b[0m\u001b[1;33m)\u001b[0m\u001b[1;33m\u001b[0m\u001b[1;33m\u001b[0m\u001b[0m\n\u001b[0;32m    857\u001b[0m             \u001b[1;32mif\u001b[0m \u001b[0misinstance\u001b[0m\u001b[1;33m(\u001b[0m\u001b[0mindexer\u001b[0m\u001b[1;33m,\u001b[0m \u001b[0mslice\u001b[0m\u001b[1;33m)\u001b[0m\u001b[1;33m\u001b[0m\u001b[1;33m\u001b[0m\u001b[0m\n\u001b[1;32m--> 858\u001b[1;33m             \u001b[1;32melse\u001b[0m \u001b[0mnp\u001b[0m\u001b[1;33m.\u001b[0m\u001b[0masanyarray\u001b[0m\u001b[1;33m(\u001b[0m\u001b[0mindexer\u001b[0m\u001b[1;33m,\u001b[0m \u001b[0mdtype\u001b[0m\u001b[1;33m=\u001b[0m\u001b[1;34m\"int64\"\u001b[0m\u001b[1;33m)\u001b[0m\u001b[1;33m\u001b[0m\u001b[1;33m\u001b[0m\u001b[0m\n\u001b[0m\u001b[0;32m    859\u001b[0m         )\n\u001b[0;32m    860\u001b[0m \u001b[1;33m\u001b[0m\u001b[0m\n",
      "\u001b[1;32m~\\.conda\\envs\\Sigma\\lib\\site-packages\\pandas\\core\\series.py\u001b[0m in \u001b[0;36m__array__\u001b[1;34m(self, dtype)\u001b[0m\n\u001b[0;32m    855\u001b[0m               dtype='datetime64[ns]')\n\u001b[0;32m    856\u001b[0m         \"\"\"\n\u001b[1;32m--> 857\u001b[1;33m         \u001b[1;32mreturn\u001b[0m \u001b[0mnp\u001b[0m\u001b[1;33m.\u001b[0m\u001b[0masarray\u001b[0m\u001b[1;33m(\u001b[0m\u001b[0mself\u001b[0m\u001b[1;33m.\u001b[0m\u001b[0m_values\u001b[0m\u001b[1;33m,\u001b[0m \u001b[0mdtype\u001b[0m\u001b[1;33m)\u001b[0m\u001b[1;33m\u001b[0m\u001b[1;33m\u001b[0m\u001b[0m\n\u001b[0m\u001b[0;32m    858\u001b[0m \u001b[1;33m\u001b[0m\u001b[0m\n\u001b[0;32m    859\u001b[0m     \u001b[1;31m# ----------------------------------------------------------------------\u001b[0m\u001b[1;33m\u001b[0m\u001b[1;33m\u001b[0m\u001b[1;33m\u001b[0m\u001b[0m\n",
      "\u001b[1;31mValueError\u001b[0m: setting an array element with a sequence."
     ]
    }
   ],
   "source": [
    "ip.iloc[max_index]"
   ]
  },
  {
   "cell_type": "code",
   "execution_count": 26,
   "id": "4fed4918",
   "metadata": {},
   "outputs": [
    {
     "name": "stdout",
     "output_type": "stream",
     "text": [
      "Requirement already satisfied: sentence_transformers in c:\\users\\bolla\\.conda\\envs\\sigma\\lib\\site-packages (2.0.0)\n",
      "Requirement already satisfied: scikit-learn in c:\\users\\bolla\\.conda\\envs\\sigma\\lib\\site-packages (from sentence_transformers) (1.0)\n",
      "Collecting torchvision\n",
      "  Downloading torchvision-0.10.1-cp38-cp38-win_amd64.whl (936 kB)\n",
      "Requirement already satisfied: tqdm in c:\\users\\bolla\\.conda\\envs\\sigma\\lib\\site-packages (from sentence_transformers) (4.62.3)\n",
      "Requirement already satisfied: torch>=1.6.0 in c:\\users\\bolla\\.conda\\envs\\sigma\\lib\\site-packages (from sentence_transformers) (1.6.0)\n",
      "Collecting sentencepiece\n",
      "  Downloading sentencepiece-0.1.96-cp38-cp38-win_amd64.whl (1.1 MB)\n",
      "Requirement already satisfied: transformers<5.0.0,>=4.6.0 in c:\\users\\bolla\\.conda\\envs\\sigma\\lib\\site-packages (from sentence_transformers) (4.11.1)\n",
      "Requirement already satisfied: nltk in c:\\users\\bolla\\.conda\\envs\\sigma\\lib\\site-packages (from sentence_transformers) (3.6.3)\n",
      "Requirement already satisfied: huggingface-hub in c:\\users\\bolla\\.conda\\envs\\sigma\\lib\\site-packages (from sentence_transformers) (0.0.17)\n",
      "Requirement already satisfied: scipy in c:\\users\\bolla\\.conda\\envs\\sigma\\lib\\site-packages (from sentence_transformers) (1.7.1)\n",
      "Requirement already satisfied: numpy in c:\\users\\bolla\\.conda\\envs\\sigma\\lib\\site-packages (from sentence_transformers) (1.21.2)\n",
      "Collecting future\n",
      "  Downloading future-0.18.2.tar.gz (829 kB)\n",
      "Requirement already satisfied: pyyaml>=5.1 in c:\\users\\bolla\\.conda\\envs\\sigma\\lib\\site-packages (from transformers<5.0.0,>=4.6.0->sentence_transformers) (5.4.1)\n",
      "Requirement already satisfied: tokenizers<0.11,>=0.10.1 in c:\\users\\bolla\\.conda\\envs\\sigma\\lib\\site-packages (from transformers<5.0.0,>=4.6.0->sentence_transformers) (0.10.3)\n",
      "Requirement already satisfied: packaging>=20.0 in c:\\users\\bolla\\.conda\\envs\\sigma\\lib\\site-packages (from transformers<5.0.0,>=4.6.0->sentence_transformers) (21.0)\n",
      "Requirement already satisfied: filelock in c:\\users\\bolla\\.conda\\envs\\sigma\\lib\\site-packages (from transformers<5.0.0,>=4.6.0->sentence_transformers) (3.1.0)\n",
      "Requirement already satisfied: regex!=2019.12.17 in c:\\users\\bolla\\.conda\\envs\\sigma\\lib\\site-packages (from transformers<5.0.0,>=4.6.0->sentence_transformers) (2021.9.24)\n",
      "Requirement already satisfied: sacremoses in c:\\users\\bolla\\.conda\\envs\\sigma\\lib\\site-packages (from transformers<5.0.0,>=4.6.0->sentence_transformers) (0.0.43)\n",
      "Requirement already satisfied: requests in c:\\users\\bolla\\.conda\\envs\\sigma\\lib\\site-packages (from transformers<5.0.0,>=4.6.0->sentence_transformers) (2.26.0)\n",
      "Requirement already satisfied: typing-extensions in c:\\users\\bolla\\.conda\\envs\\sigma\\lib\\site-packages (from huggingface-hub->sentence_transformers) (3.10.0.2)\n",
      "Requirement already satisfied: pyparsing>=2.0.2 in c:\\users\\bolla\\.conda\\envs\\sigma\\lib\\site-packages (from packaging>=20.0->transformers<5.0.0,>=4.6.0->sentence_transformers) (2.4.7)\n",
      "Requirement already satisfied: colorama in c:\\users\\bolla\\.conda\\envs\\sigma\\lib\\site-packages (from tqdm->sentence_transformers) (0.4.4)\n",
      "Requirement already satisfied: joblib in c:\\users\\bolla\\.conda\\envs\\sigma\\lib\\site-packages (from nltk->sentence_transformers) (1.0.1)\n",
      "Requirement already satisfied: click in c:\\users\\bolla\\.conda\\envs\\sigma\\lib\\site-packages (from nltk->sentence_transformers) (8.0.1)\n",
      "Requirement already satisfied: certifi>=2017.4.17 in c:\\users\\bolla\\.conda\\envs\\sigma\\lib\\site-packages (from requests->transformers<5.0.0,>=4.6.0->sentence_transformers) (2021.5.30)\n",
      "Requirement already satisfied: idna<4,>=2.5 in c:\\users\\bolla\\.conda\\envs\\sigma\\lib\\site-packages (from requests->transformers<5.0.0,>=4.6.0->sentence_transformers) (3.1)\n",
      "Requirement already satisfied: urllib3<1.27,>=1.21.1 in c:\\users\\bolla\\.conda\\envs\\sigma\\lib\\site-packages (from requests->transformers<5.0.0,>=4.6.0->sentence_transformers) (1.26.7)\n",
      "Requirement already satisfied: charset-normalizer~=2.0.0 in c:\\users\\bolla\\.conda\\envs\\sigma\\lib\\site-packages (from requests->transformers<5.0.0,>=4.6.0->sentence_transformers) (2.0.0)\n",
      "Requirement already satisfied: six in c:\\users\\bolla\\.conda\\envs\\sigma\\lib\\site-packages (from sacremoses->transformers<5.0.0,>=4.6.0->sentence_transformers) (1.16.0)\n",
      "Requirement already satisfied: threadpoolctl>=2.0.0 in c:\\users\\bolla\\.conda\\envs\\sigma\\lib\\site-packages (from scikit-learn->sentence_transformers) (2.2.0)\n",
      "Requirement already satisfied: pillow>=5.3.0 in c:\\users\\bolla\\.conda\\envs\\sigma\\lib\\site-packages (from torchvision->sentence_transformers) (8.3.1)\n",
      "Collecting torch>=1.6.0\n",
      "  Downloading torch-1.9.1-cp38-cp38-win_amd64.whl (222.1 MB)\n",
      "Installing collected packages: torch, torchvision, sentencepiece\n",
      "  Attempting uninstall: torch\n",
      "    Found existing installation: torch 1.6.0\n",
      "    Uninstalling torch-1.6.0:\n",
      "      Successfully uninstalled torch-1.6.0\n"
     ]
    },
    {
     "name": "stderr",
     "output_type": "stream",
     "text": [
      "ERROR: Could not install packages due to an OSError: [WinError 5] Access is denied: 'C:\\\\Users\\\\bolla\\\\.conda\\\\envs\\\\Sigma\\\\Lib\\\\site-packages\\\\~orch\\\\lib\\\\asmjit.dll'\n",
      "Consider using the `--user` option or check the permissions.\n",
      "\n"
     ]
    }
   ],
   "source": [
    "!pip install sentence_transformers"
   ]
  },
  {
   "cell_type": "code",
   "execution_count": null,
   "id": "28a2532a",
   "metadata": {},
   "outputs": [],
   "source": []
  },
  {
   "cell_type": "code",
   "execution_count": null,
   "id": "4bc6883d",
   "metadata": {},
   "outputs": [],
   "source": []
  }
 ],
 "metadata": {
  "kernelspec": {
   "display_name": "Python 3",
   "language": "python",
   "name": "python3"
  },
  "language_info": {
   "codemirror_mode": {
    "name": "ipython",
    "version": 3
   },
   "file_extension": ".py",
   "mimetype": "text/x-python",
   "name": "python",
   "nbconvert_exporter": "python",
   "pygments_lexer": "ipython3",
   "version": "3.8.8"
  }
 },
 "nbformat": 4,
 "nbformat_minor": 5
}
